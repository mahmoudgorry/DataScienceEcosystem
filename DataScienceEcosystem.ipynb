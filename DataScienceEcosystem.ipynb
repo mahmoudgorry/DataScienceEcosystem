{
  "cells": [
    {
      "cell_type": "markdown",
      "metadata": {},
      "source": [
        "# Data Science Tools and Ecosystem"
      ]
    },
    {
      "cell_type": "markdown",
      "metadata": {},
      "source": [
        "## introduction \n",
        "In this notebook, Data Science Tools and Ecosystem are summarized."
      ]
    },
    {
      "cell_type": "markdown",
      "metadata": {},
      "source": [
        "### Some of the populer languages that Data Scientists use are :\n",
        "1. R \n",
        "2. Python \n",
        "3. SQL"
      ]
    },
    {
      "cell_type": "markdown",
      "metadata": {
        "tags": []
      },
      "source": [
        "### Some of the commonly used libraries used by Data Scientists include :\n",
        "1. Pandas \n",
        "2. matpoltlib\n",
        "3. Scikit-learn"
      ]
    },
    {
      "cell_type": "markdown",
      "metadata": {},
      "source": [
        "|Data Science tools|\n",
        "|-------------|\n",
        "|Jupterlap|\n",
        "|Anaconda|\n",
        "|Rstudio|"
      ]
    },
    {
      "cell_type": "code",
      "execution_count": null,
      "metadata": {},
      "outputs": [],
      "source": [
        "### Below are a few examples of evaluating arithmetic expression in python \n",
        "1+2 , 2/3 "
      ]
    },
    {
      "cell_type": "code",
      "execution_count": 1,
      "metadata": {},
      "outputs": [
        {
          "data": {
            "text/plain": [
              "17"
            ]
          },
          "execution_count": 1,
          "metadata": {},
          "output_type": "execute_result"
        }
      ],
      "source": [
        "### This a simple rithmetic expression  to mutiply then add integers .\n",
        "(3*4)+5"
      ]
    },
    {
      "cell_type": "code",
      "execution_count": 2,
      "metadata": {},
      "outputs": [
        {
          "data": {
            "text/plain": [
              "3.3333333333333335"
            ]
          },
          "execution_count": 2,
          "metadata": {},
          "output_type": "execute_result"
        }
      ],
      "source": [
        "min_into_houre =  200/60\n",
        "min_into_houre"
      ]
    },
    {
      "cell_type": "markdown",
      "metadata": {},
      "source": [
        "# Introduction\n",
        "**Objectives**\n",
        "* Records Data Science experiments \n",
        "* Allows combining text ,code blocks and code output in dingle file \n",
        "* Export the notebook to PDF or HTML file format "
      ]
    },
    {
      "cell_type": "markdown",
      "metadata": {},
      "source": [
        "## Author \n",
        "Mahmoud IsamEldin"
      ]
    },
    {
      "cell_type": "code",
      "execution_count": null,
      "metadata": {},
      "outputs": [],
      "source": []
    }
  ],
  "metadata": {
    "kernelspec": {
      "display_name": "base",
      "language": "python",
      "name": "python3"
    },
    "language_info": {
      "codemirror_mode": {
        "name": "ipython",
        "version": 3
      },
      "file_extension": ".py",
      "mimetype": "text/x-python",
      "name": "python",
      "nbconvert_exporter": "python",
      "pygments_lexer": "ipython3",
      "version": "3.11.4"
    }
  },
  "nbformat": 4,
  "nbformat_minor": 4
}
